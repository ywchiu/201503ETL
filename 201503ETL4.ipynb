{
 "cells": [
  {
   "cell_type": "code",
   "execution_count": 35,
   "metadata": {
    "collapsed": false
   },
   "outputs": [],
   "source": [
    "# -*- coding: utf-8 -*- \n",
    "from bs4 import BeautifulSoup \n",
    "f = open('51081295_102-0400-1-051.txt', 'r') \n",
    "response_text = f.read() \n",
    "soup = BeautifulSoup(response_text) \n",
    "f.close()\n"
   ]
  },
  {
   "cell_type": "code",
   "execution_count": 5,
   "metadata": {
    "collapsed": false
   },
   "outputs": [],
   "source": [
    "soup = BeautifulSoup(''.join(response_text)) \n",
    "tr = soup.findAll('tr') \n",
    "#for row in tr: \n",
    "#    print row.find('th')"
   ]
  },
  {
   "cell_type": "code",
   "execution_count": 6,
   "metadata": {
    "collapsed": false
   },
   "outputs": [
    {
     "name": "stdout",
     "output_type": "stream",
     "text": [
      "3.7.74.37\n",
      "臺灣菸酒股份有限公司隆田酒廠\n",
      "720臺南市官田區隆本里中華路一段335號\n"
     ]
    }
   ],
   "source": [
    "dic = {\"機關代碼\":\"\", \"機關名稱\":\"\", \"機關地址\":\"\"} \n",
    "for row in tr: \n",
    "    th = row.find('th') \n",
    "    if th is not None: \n",
    "        if th.text.encode('utf-8').strip() in dic: \n",
    "            print row.find('td').text.strip()\n"
   ]
  },
  {
   "cell_type": "code",
   "execution_count": 15,
   "metadata": {
    "collapsed": false
   },
   "outputs": [
    {
     "name": "stdout",
     "output_type": "stream",
     "text": [
      "\n",
      "     標的分類\n",
      "     \n",
      "     <財物類>    \n",
      "\n",
      "                            32\n",
      "\n",
      "                            紙漿,紙及紙產品;印刷品及相關的商品\n",
      "    \n",
      "標的分類 \n"
     ]
    }
   ],
   "source": [
    "dic = {\"標的分類\":\"\"} \n",
    "for row in tr: \n",
    "    th = row.find('th') \n",
    "    if th is not None: \n",
    "        if th.text.encode('utf-8').strip() in dic: \n",
    "            dic[th.text.encode('utf-8')] = row.find('td').text.encode('utf-8') \n",
    "for rec in dic: \n",
    "    print rec, dic[rec]\n"
   ]
  },
  {
   "cell_type": "code",
   "execution_count": 9,
   "metadata": {
    "collapsed": false
   },
   "outputs": [
    {
     "name": "stdout",
     "output_type": "stream",
     "text": [
      "\t\t string \n",
      "\t\n",
      "'\\t\\t string \\n\\t'\n"
     ]
    }
   ],
   "source": [
    "a = '\\t\\t string \\n\\t' \n",
    "print a \n",
    "print repr(a)"
   ]
  },
  {
   "cell_type": "code",
   "execution_count": 10,
   "metadata": {
    "collapsed": false
   },
   "outputs": [
    {
     "name": "stdout",
     "output_type": "stream",
     "text": [
      "\t\n",
      "qoo\n",
      "qoo\t\n",
      "qoo\n"
     ]
    }
   ],
   "source": [
    "b = '\\t\\nqoo\\nqoo\\t\\nqoo'\n",
    "print b"
   ]
  },
  {
   "cell_type": "code",
   "execution_count": 11,
   "metadata": {
    "collapsed": false
   },
   "outputs": [
    {
     "name": "stdout",
     "output_type": "stream",
     "text": [
      "'\\t\\nqoo\\nqoo\\t\\nqoo'\n"
     ]
    }
   ],
   "source": [
    "print repr(b)"
   ]
  },
  {
   "cell_type": "code",
   "execution_count": 17,
   "metadata": {
    "collapsed": false
   },
   "outputs": [
    {
     "name": "stdout",
     "output_type": "stream",
     "text": [
      "{'\\n     \\xe6\\xa8\\x99\\xe7\\x9a\\x84\\xe5\\x88\\x86\\xe9\\xa1\\x9e\\n    ': '\\n     <\\xe8\\xb2\\xa1\\xe7\\x89\\xa9\\xe9\\xa1\\x9e>    \\n\\n                            32\\n\\n                            \\xe7\\xb4\\x99\\xe6\\xbc\\xbf,\\xe7\\xb4\\x99\\xe5\\x8f\\x8a\\xe7\\xb4\\x99\\xe7\\x94\\xa2\\xe5\\x93\\x81;\\xe5\\x8d\\xb0\\xe5\\x88\\xb7\\xe5\\x93\\x81\\xe5\\x8f\\x8a\\xe7\\x9b\\xb8\\xe9\\x97\\x9c\\xe7\\x9a\\x84\\xe5\\x95\\x86\\xe5\\x93\\x81\\n    ', '\\xe6\\xa8\\x99\\xe7\\x9a\\x84\\xe5\\x88\\x86\\xe9\\xa1\\x9e': ''}\n",
      "\n",
      "     標的分類\n",
      "     \n",
      "     <財物類>    \n",
      "\n",
      "                            32\n",
      "\n",
      "                            紙漿,紙及紙產品;印刷品及相關的商品\n",
      "    \n",
      "\n",
      "     標的分類\n",
      "     '\\n     <\\xe8\\xb2\\xa1\\xe7\\x89\\xa9\\xe9\\xa1\\x9e>    \\n\\n                            32\\n\\n                            \\xe7\\xb4\\x99\\xe6\\xbc\\xbf,\\xe7\\xb4\\x99\\xe5\\x8f\\x8a\\xe7\\xb4\\x99\\xe7\\x94\\xa2\\xe5\\x93\\x81;\\xe5\\x8d\\xb0\\xe5\\x88\\xb7\\xe5\\x93\\x81\\xe5\\x8f\\x8a\\xe7\\x9b\\xb8\\xe9\\x97\\x9c\\xe7\\x9a\\x84\\xe5\\x95\\x86\\xe5\\x93\\x81\\n    '\n",
      "標的分類 \n",
      "標的分類 ''\n"
     ]
    }
   ],
   "source": [
    "print dic\n",
    "for item in dic:\n",
    "    print item, dic[item]\n",
    "    print item, repr(dic[item])"
   ]
  },
  {
   "cell_type": "code",
   "execution_count": 24,
   "metadata": {
    "collapsed": false
   },
   "outputs": [
    {
     "name": "stdout",
     "output_type": "stream",
     "text": [
      "['123', '555', '111', '99']\n",
      "['123', '555,111,99']\n",
      "['123', '555', '111,99']\n",
      "['http:', '', 'nbviewer.ipython.org', 'github/ywchiu/201503ETL/blob/master/201503ETL.ipynb']\n",
      "nbviewer.ipython.org\n"
     ]
    }
   ],
   "source": [
    "a = '123,555,111,99' \n",
    "print a.split(',') \n",
    "print a.split(',',1) \n",
    "print a.split(',',2) \n",
    "url = \"http://nbviewer.ipython.org/github/ywchiu/201503ETL/blob/master/201503ETL.ipynb\"\n",
    "print url.split('/', 3)\n",
    "\n",
    "# get hostname\n",
    "hostname = url.split('/',3)[2]\n",
    "print hostname"
   ]
  },
  {
   "cell_type": "code",
   "execution_count": 32,
   "metadata": {
    "collapsed": false
   },
   "outputs": [
    {
     "name": "stdout",
     "output_type": "stream",
     "text": [
      "['123', '555', '111', '99']\n",
      "123|555|111|99\n",
      "123@555@111@99\n",
      "12355511199\n",
      "['1', '000', '000']\n",
      "1000000\n",
      "3000000\n"
     ]
    }
   ],
   "source": [
    "a = '123,555,111,99' \n",
    "ary = a.split(',') \n",
    "print ary\n",
    "print '|'.join(ary)\n",
    "print '@'.join(ary)\n",
    "print ''.join(ary)\n",
    "\n",
    "# use split and join to change string currency to integer type\n",
    "money = '1,000,000'\n",
    "print money.split(',')\n",
    "print ''.join(money.split(','))\n",
    "print int(''.join(money.split(','))) + 2000000"
   ]
  },
  {
   "cell_type": "code",
   "execution_count": 35,
   "metadata": {
    "collapsed": false
   },
   "outputs": [
    {
     "name": "stdout",
     "output_type": "stream",
     "text": [
      "{'\\n     \\xe6\\xa8\\x99\\xe7\\x9a\\x84\\xe5\\x88\\x86\\xe9\\xa1\\x9e\\n    ': '\\n     <\\xe8\\xb2\\xa1\\xe7\\x89\\xa9\\xe9\\xa1\\x9e>    \\n\\n                            32\\n\\n                            \\xe7\\xb4\\x99\\xe6\\xbc\\xbf,\\xe7\\xb4\\x99\\xe5\\x8f\\x8a\\xe7\\xb4\\x99\\xe7\\x94\\xa2\\xe5\\x93\\x81;\\xe5\\x8d\\xb0\\xe5\\x88\\xb7\\xe5\\x93\\x81\\xe5\\x8f\\x8a\\xe7\\x9b\\xb8\\xe9\\x97\\x9c\\xe7\\x9a\\x84\\xe5\\x95\\x86\\xe5\\x93\\x81\\n    ', '\\xe6\\xa8\\x99\\xe7\\x9a\\x84\\xe5\\x88\\x86\\xe9\\xa1\\x9e': ''}\n",
      "\n",
      "     標的分類\n",
      "     <財物類>32紙漿,紙及紙產品;印刷品及相關的商品\n",
      "標的分類 \n"
     ]
    }
   ],
   "source": [
    "print dic\n",
    "for item in dic:\n",
    "    print item, ''.join(dic[item].split())\n",
    "    #print item, repr(dic[item])"
   ]
  },
  {
   "cell_type": "code",
   "execution_count": 38,
   "metadata": {
    "collapsed": false
   },
   "outputs": [
    {
     "name": "stdout",
     "output_type": "stream",
     "text": [
      "2015-03-27\n",
      "2014-05-03 14:00:00\n"
     ]
    }
   ],
   "source": [
    "# from time to string\n",
    "from datetime import date,datetime \n",
    "currenttime = datetime.now() \n",
    "print currenttime.strftime(\"%Y-%m-%d\") \n",
    "\n",
    "# from string to time\n",
    "a = '2014-05-03 14:00' \n",
    "print datetime.strptime(a, \"%Y-%m-%d %H:%M\")"
   ]
  },
  {
   "cell_type": "code",
   "execution_count": 43,
   "metadata": {
    "collapsed": false
   },
   "outputs": [
    {
     "name": "stdout",
     "output_type": "stream",
     "text": [
      "['102', '12/10 10:30']\n",
      "102\n",
      "2013\n"
     ]
    }
   ],
   "source": [
    "response_date = '102/12/10 10:30' \n",
    "getyear = response_date.split('/', 1)\n",
    "print getyear\n",
    "print getyear[0]\n",
    "#convert year to integer\n",
    "getadyear = int(getyear[0]) + 1911\n",
    "print getadyear"
   ]
  },
  {
   "cell_type": "code",
   "execution_count": 47,
   "metadata": {
    "collapsed": false
   },
   "outputs": [
    {
     "name": "stdout",
     "output_type": "stream",
     "text": [
      "2013-12-10 10:30:00\n"
     ]
    }
   ],
   "source": [
    "getadyearstr =  str(getadyear) + \"/\" +  getyear[1]\n",
    "print datetime.strptime(getadyearstr, \"%Y/%m/%d %H:%M\")"
   ]
  },
  {
   "cell_type": "code",
   "execution_count": 3,
   "metadata": {
    "collapsed": false
   },
   "outputs": [
    {
     "name": "stdout",
     "output_type": "stream",
     "text": [
      "101\n",
      "10000\n"
     ]
    }
   ],
   "source": [
    "import re \n",
    "m = re.match(r'投標廠商(\\d+)' ,'投標廠商101') \n",
    "print m.group(1)\n",
    "\n",
    "import re \n",
    "m = re.match(r'投標廠商(?P<bidid>\\d+)' ,'投標廠商10000') \n",
    "print m.group(\"bidid\")"
   ]
  },
  {
   "cell_type": "code",
   "execution_count": 6,
   "metadata": {
    "collapsed": false
   },
   "outputs": [
    {
     "name": "stdout",
     "output_type": "stream",
     "text": [
      "{'1': {'1': '1', '11': '11'}, '2': {'2': '2', '22': '22'}}\n"
     ]
    }
   ],
   "source": [
    "a = [\"投標廠商1\", \"1\",\"11\", \"投標廠商2\", \"2\",\"22\"]\n",
    "result = {}\n",
    "current_vender_id = 0\n",
    "for item in a:\n",
    "    m = re.match(\"投標廠商(\\d+)\", item)\n",
    "    if m:\n",
    "        current_vender_id = m.group(1)\n",
    "        result[current_vender_id] = {}\n",
    "    else:\n",
    "        result[current_vender_id][item] = item\n",
    "print result"
   ]
  },
  {
   "cell_type": "code",
   "execution_count": 10,
   "metadata": {
    "collapsed": false
   },
   "outputs": [
    {
     "name": "stdout",
     "output_type": "stream",
     "text": [
      "tenderer_name 誠毅紙器股份有限公司\n",
      "orgnization_type 公司登記\n",
      "tenderer_code 75580992\n",
      "tenderer_num 1\n",
      "awarded 是\n",
      "tenderer_name 龍升印刷有限公司\n",
      "orgnization_type 公司登記\n",
      "tenderer_code 70489398\n",
      "tenderer_num 2\n",
      "awarded 否\n",
      "tenderer_name 龍宏印刷有限公司\n",
      "orgnization_type 公司登記\n",
      "tenderer_code 72205903\n",
      "tenderer_num 3\n",
      "awarded 否\n",
      "tenderer_name 捷采印刷事業股份有限公司\n",
      "orgnization_type 公司登記\n",
      "tenderer_code 23518409\n",
      "tenderer_num 4\n",
      "awarded 否\n",
      "tenderer_name 大暉彩色印刷有限公司\n",
      "orgnization_type 公司登記\n",
      "tenderer_code 22098203\n",
      "tenderer_num 5\n",
      "awarded 否\n"
     ]
    }
   ],
   "source": [
    "# -*- coding: utf-8 -*- \n",
    "from bs4 import BeautifulSoup \n",
    "f = open('51081295_102-0400-1-051.txt', 'r') \n",
    "response_text = f.read() \n",
    "f.close() \n",
    "soup = BeautifulSoup(response_text)\n",
    "\n",
    "tenderer_dic = {\"廠商代碼\":\"tenderer_code\", \"廠商名稱\":\"tenderer_name\", \"是否得標\":\"awarded\", \"組織型態\":\"orgnization_type\"} \n",
    "result_dic = {} \n",
    "\n",
    "tender_table = soup.find('table', { \"class\" : \"table_block tender_table\" }) \n",
    "award_table_tr_3 = tender_table.findAll( 'tr',{'class':'award_table_tr_3'})\n",
    "\n",
    "for tr in award_table_tr_3: \n",
    "    tb =tr.find('table') \n",
    "    grp_num = 0 \n",
    "    if tb is not None: \n",
    "        row = tb.findAll('tr') \n",
    "        for r in row: \n",
    "            th = r.find('th').text \n",
    "            m = re.match(r'投標廠商(\\d+)' ,th.encode('utf-8').strip()) \n",
    "            if m is not None: \n",
    "                grp_num = int(m.group(1)) \n",
    "                result_dic[grp_num] = {'tenderer_num': grp_num} \n",
    "            else: \n",
    "                if th.encode('utf-8').strip() in tenderer_dic: \n",
    "                    result_dic[grp_num][tenderer_dic[th.encode('utf-8').strip()]] = r.find('td').text.strip()\n",
    "#print result_dic\n",
    "\n",
    "for rec in result_dic:\n",
    "    for i in  result_dic[rec]:\n",
    "        print i, result_dic[rec][i]"
   ]
  },
  {
   "cell_type": "code",
   "execution_count": 11,
   "metadata": {
    "collapsed": false
   },
   "outputs": [
    {
     "name": "stdout",
     "output_type": "stream",
     "text": [
      "352111\n",
      "352111\n",
      "352111\n",
      "352111\n",
      "352111\n"
     ]
    }
   ],
   "source": [
    "import re \n",
    "m = re.match( r\"\\$?-?([0-9,]+)\", '352,111元') \n",
    "print ''.join(m.group(1).split(','))\n",
    "\n",
    "a = ['352,111元','$352,111元', '-352,111元', '$-352,111元']\n",
    "for item in a:\n",
    "    m = re.match(r\"\\$?-?([0-9,]+)\", item) \n",
    "    print ''.join(m.group(1).split(','))\n"
   ]
  },
  {
   "cell_type": "code",
   "execution_count": 88,
   "metadata": {
    "collapsed": false
   },
   "outputs": [
    {
     "name": "stdout",
     "output_type": "stream",
     "text": [
      "awarded_tenderer\n",
      "{'awarded_tenderer': 'IBM'}\n"
     ]
    }
   ],
   "source": [
    "# -*- coding: utf-8 -*-\n",
    "tender_award_dic = {\"得標廠商\":\"awarded_tenderer\", \"預估需求數量\":\"request_number\", \"決標金額\":\"tender_awarding_value\", \"底價金額\":\"floor_price_value\"}\n",
    "a = {\"得標廠商\":'IBM', \"數量\":50}\n",
    "print tender_award_dic[\"得標廠商\"]\n",
    "result_dic = {}\n",
    "for item in a:\n",
    "    if item in tender_award_dic:\n",
    "        result_dic[tender_award_dic[item]] = a[item] \n",
    "print result_dic\n",
    "\n"
   ]
  },
  {
   "cell_type": "code",
   "execution_count": 29,
   "metadata": {
    "collapsed": false
   },
   "outputs": [
    {
     "name": "stdout",
     "output_type": "stream",
     "text": [
      "{1: {1: {'request_number': u'5000', 'awarded_tenderer': u'\\u8aa0\\u6bc5\\u7d19\\u5668\\u80a1\\u4efd\\u6709\\u9650\\u516c\\u53f8'}}}\n",
      "request_number 5000\n",
      "awarded_tenderer 誠毅紙器股份有限公司\n"
     ]
    }
   ],
   "source": [
    "award_dic = {}\n",
    "tender_award_dic = {\"得標廠商\":\"awarded_tenderer\", \"預估需求數量\":\"request_number\", \"決標金額\":\"tender_awarding_value\", \"底價金額\":\"floor_price_value\"}\n",
    "award_table_tr_4 = tender_table.findAll( 'tr',{'class':'award_table_tr_4'})\t\t\n",
    "for tr in award_table_tr_4:\n",
    "\ttb =tr.find('table')\n",
    "\tif tb is not None:\n",
    "\t\trow = tb.findAll('tr')\n",
    "\t\titem_num = 0\n",
    "\t\tgrp_num = 0\n",
    "\t\tfor r in row:\n",
    "\t\t\tif r.find('th') is not None:\n",
    "\t\t\t\tth = r.find('th').text\n",
    "\t\t\t\t#print r.find('th').text\n",
    "\t\t\t\tm = re.match(r'第(\\d+)品項' ,th.encode('utf-8').strip())\n",
    "\t\t\t\tm2 = re.match(r'得標廠商(\\d+)' ,th.encode('utf-8').strip())\n",
    "\t\t\t\tif m is not None:\n",
    "\t\t\t\t\titem_num =  int(m.group(1).decode('utf-8'))\n",
    "\t\t\t\t\taward_dic[item_num] = {}\n",
    "\t\t\t\telif m2 is not None:\n",
    "\t\t\t\t\tgrp_num =  int(m2.group(1).decode('utf-8'))\n",
    "\t\t\t\t\taward_dic[item_num][grp_num] = {}\t\t\t\n",
    "\t\t\t\telse:\n",
    "\t\t\t\t\tif th.encode('utf-8').strip() in tender_award_dic:\n",
    "\t\t\t\t\t\t#print th.encode('utf-8').strip().decode('utf-8')\n",
    "\t\t\t\t\t\tif th.encode('utf-8').strip() == \"決標金額\" or th.encode('utf-8').strip() == \"底價金額\":\n",
    "\t\t\t\t\t\t\tm = re.match( r\"\\$?-?([0-9,]+)\", \"\".join( r.find('td').text.split()))\n",
    "\t\t\t\t\t\t\taward_dic[item_num][grp_num][tender_award_dic[th.encode('utf-8').strip()]] =  int(''.join(m.group(0).split(',')))\t\t\t\t\t\t\t\n",
    "\t\t\t\t\t\telse:\n",
    "\t\t\t\t\t\t\taward_dic[item_num][grp_num][tender_award_dic[th.encode('utf-8').strip()]] = r.find('td').text.strip()\n",
    "print award_dic\n",
    "\n",
    "for rec in award_dic[1][1]:\n",
    "    print rec, award_dic[1][1][rec]"
   ]
  },
  {
   "cell_type": "code",
   "execution_count": 45,
   "metadata": {
    "collapsed": true
   },
   "outputs": [],
   "source": [
    "# -*- coding: utf-8 -*- \n",
    "from bs4 import BeautifulSoup \n",
    "from datetime import datetime \n",
    "import os, sys, re"
   ]
  },
  {
   "cell_type": "code",
   "execution_count": 46,
   "metadata": {
    "collapsed": true
   },
   "outputs": [],
   "source": [
    "def get_response_element (file_name): \n",
    "    f = open(file_name, 'r') \n",
    "    response_text = f.read() \n",
    "    f.close() \n",
    "    soup = BeautifulSoup(''.join(response_text)) \n",
    "    tender_table = soup.find('table', { \"class\" : \"table_block tender_table\" }) \n",
    "    tr = tender_table.findAll('tr') \n",
    "    return tr"
   ]
  },
  {
   "cell_type": "code",
   "execution_count": 50,
   "metadata": {
    "collapsed": false
   },
   "outputs": [
    {
     "name": "stdout",
     "output_type": "stream",
     "text": [
      "116\n"
     ]
    }
   ],
   "source": [
    "gettr = get_response_element('51081295_102-0400-1-051.txt')\n",
    "print len(gettr)"
   ]
  },
  {
   "cell_type": "code",
   "execution_count": 51,
   "metadata": {
    "collapsed": true
   },
   "outputs": [],
   "source": [
    "def date_conversion(element):\n",
    "        m = re.match(r\"(\\d+/\\d+/\\d+)\",element)\n",
    "        if m is not None:\n",
    "                t = m.group(1).split('/', 1)\n",
    "                if t[0] != '':\n",
    "                        return datetime.strptime(str(int(t[0]) + 1911) + \"/\" + (''.join(t[1:]).split()[0] ), \"%Y/%m/%d\")\n",
    "        else:\n",
    "                return None\n"
   ]
  },
  {
   "cell_type": "code",
   "execution_count": 53,
   "metadata": {
    "collapsed": false
   },
   "outputs": [
    {
     "name": "stdout",
     "output_type": "stream",
     "text": [
      "2014-03-23 00:00:00\n",
      "None\n"
     ]
    }
   ],
   "source": [
    "print date_conversion(\"103/3/23\")\n",
    "print date_conversion(\"103-3-23\")"
   ]
  },
  {
   "cell_type": "code",
   "execution_count": 54,
   "metadata": {
    "collapsed": true
   },
   "outputs": [],
   "source": [
    "def money_conversion(element): \n",
    "    m = re.match( r\"\\$?-?([0-9,]+)\", \"\".join(element.split())) \n",
    "    return int(''.join(m.group(0).split(',')))\n"
   ]
  },
  {
   "cell_type": "code",
   "execution_count": 57,
   "metadata": {
    "collapsed": false
   },
   "outputs": [
    {
     "name": "stdout",
     "output_type": "stream",
     "text": [
      "2360000\n"
     ]
    }
   ],
   "source": [
    "print money_conversion(\"2,350,000元\") + 10000"
   ]
  },
  {
   "cell_type": "code",
   "execution_count": 58,
   "metadata": {
    "collapsed": true
   },
   "outputs": [],
   "source": [
    "def remove_space(element): \n",
    "    return \"\".join(element.split())\n"
   ]
  },
  {
   "cell_type": "code",
   "execution_count": 59,
   "metadata": {
    "collapsed": false
   },
   "outputs": [
    {
     "name": "stdout",
     "output_type": "stream",
     "text": [
      "fsdfsdfqoo123\n"
     ]
    }
   ],
   "source": [
    "print remove_space(\"  fsdfsdf        qoo    \\t   123\")"
   ]
  },
  {
   "cell_type": "code",
   "execution_count": 66,
   "metadata": {
    "collapsed": false
   },
   "outputs": [
    {
     "name": "stdout",
     "output_type": "stream",
     "text": [
      "24234234234234234324\n"
     ]
    }
   ],
   "source": [
    "tender_awards_map = {\"機關代碼\":remove_space}\n",
    "a = {}\n",
    "a[\"機關代碼\"]  = '24234 234234         \\t   234234324' \n",
    "print tender_awards_map[\"機關代碼\"](a[\"機關代碼\"])"
   ]
  },
  {
   "cell_type": "code",
   "execution_count": 68,
   "metadata": {
    "collapsed": false
   },
   "outputs": [],
   "source": [
    "name_map = {\"機關代碼\":\"entity_code\", \"機關名稱\":\"procuring_entity\",\"標案案號\":\"job_number\",\"招標方式\":\"procurement_type\",\\\n",
    "    \"決標方式\":\"tender_awarding_type\",\"標案名稱\":\"subject_of_procurement\", \"決標資料類別\":\"attr_of_tender_awarding\", \\\n",
    "    \"標的分類\":\"attr_of_procurement\", \"預算金額\":\"budget_value\", \"開標時間\":\"opening_date\",\"決標公告日期\":\"tender_awarding_announce_date\",\\\n",
    "    \"歸屬計畫類別\":\"project_type\",\"總決標金額\":\"total_tender_awarding_value\",\"底價金額\":\"floor_price_value\",\"決標日期\":\"tender_awarding_date\", \"pkAtmMain\":\"pkAtmMain\"}\n",
    "\n",
    "tender_awards_map = {\"機關代碼\":remove_space, \"機關名稱\":remove_space, \"標案案號\":remove_space, \\\n",
    "    \"招標方式\":remove_space,\"決標方式\":remove_space,\"標案名稱\":remove_space, \"決標資料類別\":remove_space, \\\n",
    "    \"標的分類\":remove_space, \"預算金額\":money_conversion, \"開標時間\":date_conversion,\"歸屬計畫類別\":remove_space, \\\n",
    "    \"總決標金額\":money_conversion,\"底價金額\":money_conversion,\"決標日期\":date_conversion, \"決標公告日期\":date_conversion}\n",
    "\n",
    "tender_award_item_map = {\"得標廠商\":\"awarded_tenderer\", \"預估需求數量\":\"request_number\", \"決標金額\":\"tender_awarding_value\", \"底價金額\":\"floor_price_value\"}\n",
    "tenderer_map = {\"廠商代碼\":\"tenderer_code\", \"廠商名稱\":\"tenderer_name\", \"是否得標\":\"awarded\", \"組織型態\":\"orgnization_type\"}"
   ]
  },
  {
   "cell_type": "code",
   "execution_count": 69,
   "metadata": {
    "collapsed": true
   },
   "outputs": [],
   "source": [
    "\n",
    "def get_award_info_dic (element):\n",
    "\treturned_dic = {}\n",
    "\tfor row in element:\n",
    "\t\tth = row.find('th')\n",
    "\t\tif th is not None and row.get('class') is not None:\n",
    "\t\t    th_name = th.text.encode('utf-8').strip()\n",
    "\t\t    if ('award_table_tr_1' or 'award_table_tr_2' or  'award_table_tr_6'  in row.get('class')) and  (th_name in  tender_awards_map):\n",
    "\t\t        returned_dic[name_map[th_name]]   =   tender_awards_map[th_name](row.find('td').text.strip())\n",
    "\treturn returned_dic"
   ]
  },
  {
   "cell_type": "code",
   "execution_count": 72,
   "metadata": {
    "collapsed": false
   },
   "outputs": [
    {
     "name": "stdout",
     "output_type": "stream",
     "text": [
      "opening_date 2013-10-14 00:00:00\n",
      "tender_awarding_date 2013-10-14 00:00:00\n",
      "entity_code 3.7.74.37\n",
      "procurement_type 公開取得報價單或企劃書\n",
      "procuring_entity 臺灣菸酒股份有限公司隆田酒廠\n",
      "attr_of_procurement <財物類>32紙漿,紙及紙產品;印刷品及相關的商品\n",
      "tender_awarding_announce_date 2013-10-18 00:00:00\n",
      "subject_of_procurement 5.4公升蟲草養生酒彩盒5,000個\n",
      "project_type 非屬愛台十二項計畫\n",
      "attr_of_tender_awarding 決標公告\n",
      "job_number 102-0400-1-051\n",
      "tender_awarding_type 最低標\n"
     ]
    }
   ],
   "source": [
    "gettr = get_response_element('51081295_102-0400-1-051.txt')\n",
    "aid =  get_award_info_dic(gettr)\n",
    "for ent in aid:\n",
    "    print ent, aid[ent]"
   ]
  },
  {
   "cell_type": "code",
   "execution_count": 73,
   "metadata": {
    "collapsed": true
   },
   "outputs": [],
   "source": [
    "def get_tenderer_info_dic (element):\n",
    "\treturned_dic = {}\n",
    "\tgrp_num = 0\n",
    "\tfor tr in element:\n",
    "\t\tif  tr.get('class') is not None and tr.get('class')[0] == 'award_table_tr_3' and tr.find('table') is not None :\n",
    "\t\t\trow = tr.find('table').findAll('tr')          \n",
    "\t\t\tfor r in row:\n",
    "\t\t\t\tif r.find('th') is not None:\n",
    "\t\t\t\t\tth = r.find('th').text.encode('utf-8').strip()\n",
    "\t\t\t\t\tm = re.match(r'投標廠商(\\d+)' ,th)\n",
    "\t\t\t\t\tif m is not None:\n",
    "\t\t\t\t\t\tgrp_num =  int(m.group(1).decode('utf-8'))\n",
    "\t\t\t\t\t\treturned_dic[grp_num] = {'tenderer_num': grp_num}\n",
    "\t\t\t\t\telse:\n",
    "\t\t\t\t\t\tif th in tenderer_map:\n",
    "\t\t\t\t\t\t\treturned_dic[grp_num][tenderer_map[th]] = r.find('td').text.strip()\n",
    "\treturn returned_dic"
   ]
  },
  {
   "cell_type": "code",
   "execution_count": 74,
   "metadata": {
    "collapsed": true
   },
   "outputs": [],
   "source": [
    "def get_tender_award_item_dic (element):\n",
    "\treturned_dic = {}\n",
    "\titem_num = 0\n",
    "\tgrp_num = 0\n",
    "\tfor tr in element:\n",
    "\t\tif tr.get('class') is not None and tr.get('class')[0] == 'award_table_tr_4' and tr.find('table') is not None:\n",
    "\t\t\trow = tr.find('table').findAll('tr')\n",
    "\t\t\tfor r in row:\n",
    "\t\t\t\tif r.find('th') is not None:\n",
    "\t\t\t\t\tth = r.find('th').text.encode('utf-8').strip()\n",
    "\t\t\t\t\tm = re.match(r'第(\\d+)品項' ,th)\n",
    "\t\t\t\t\tm2 = re.match(r'得標廠商(\\d+)' ,th)\n",
    "\t\t\t\t\tif m is not None:\n",
    "\t\t\t\t\t\titem_num =  int(m.group(1).decode('utf-8'))\n",
    "\t\t\t\t\t\treturned_dic[item_num] = {}\n",
    "\t\t\t\t\telif m2 is not None:\n",
    "\t\t\t\t\t\tgrp_num =  int(m2.group(1).decode('utf-8'))\n",
    "\t\t\t\t\t\treturned_dic[item_num][grp_num] = {}\t\t\t\n",
    "\t\t\t\t\telse:\n",
    "\t\t\t\t\t\tif th in tender_award_item_map:\n",
    "\t\t\t\t\t\t\tif th == \"決標金額\" or th == \"底價金額\":\n",
    "\t\t\t\t\t\t\t\treturned_dic[item_num][grp_num][tender_award_item_map[th]] = money_conversion(r.find('td').text) \t\t\t\t\t\t\t\n",
    "\t\t\t\t\t\t\telse:\n",
    "\t\t\t\t\t\t\t\treturned_dic[item_num][grp_num][tender_award_item_map[th]] = r.find('td').text.strip()\n",
    "\treturn returned_dic"
   ]
  },
  {
   "cell_type": "code",
   "execution_count": 79,
   "metadata": {
    "collapsed": false
   },
   "outputs": [
    {
     "name": "stdout",
     "output_type": "stream",
     "text": [
      "tenderer_name 誠毅紙器股份有限公司\n",
      "orgnization_type 公司登記\n",
      "tenderer_code 75580992\n",
      "tenderer_num 1\n",
      "awarded 是\n",
      "tenderer_name 龍升印刷有限公司\n",
      "orgnization_type 公司登記\n",
      "tenderer_code 70489398\n",
      "tenderer_num 2\n",
      "awarded 否\n",
      "tenderer_name 龍宏印刷有限公司\n",
      "orgnization_type 公司登記\n",
      "tenderer_code 72205903\n",
      "tenderer_num 3\n",
      "awarded 否\n",
      "tenderer_name 捷采印刷事業股份有限公司\n",
      "orgnization_type 公司登記\n",
      "tenderer_code 23518409\n",
      "tenderer_num 4\n",
      "awarded 否\n",
      "tenderer_name 大暉彩色印刷有限公司\n",
      "orgnization_type 公司登記\n",
      "tenderer_code 22098203\n",
      "tenderer_num 5\n",
      "awarded 否\n"
     ]
    }
   ],
   "source": [
    "aid =  get_tenderer_info_dic(gettr)\n",
    "for ent in aid:\n",
    "     for item in aid[ent]:\n",
    "            print item, aid[ent][item]"
   ]
  },
  {
   "cell_type": "code",
   "execution_count": 81,
   "metadata": {
    "collapsed": false
   },
   "outputs": [
    {
     "name": "stdout",
     "output_type": "stream",
     "text": [
      "request_number 5000\n",
      "awarded_tenderer 誠毅紙器股份有限公司\n"
     ]
    }
   ],
   "source": [
    "taid =  get_tender_award_item_dic(gettr)\n",
    "for ent in taid:\n",
    "     for item in taid[ent]:\n",
    "            for val in taid[ent][item]:\n",
    "                print val, taid[ent][item][val]"
   ]
  },
  {
   "cell_type": "code",
   "execution_count": 89,
   "metadata": {
    "collapsed": false
   },
   "outputs": [
    {
     "name": "stdout",
     "output_type": "stream",
     "text": [
      "SQLite version: 3.8.5\n"
     ]
    }
   ],
   "source": [
    "import sqlite3 as lite \n",
    "import sys \n",
    "con = None \n",
    "try: \n",
    "    con = lite.connect('test.db') # connect to database \n",
    "    cur = con.cursor() # create cursor \n",
    "    cur.execute('SELECT SQLITE_VERSION()') # select database version  \n",
    "    data = cur.fetchone() # fetch one data at a time \n",
    "    print \"SQLite version: %s\" % data \n",
    "except lite.Error, e: \n",
    "    print \"Error %s:\" % e.args[0] \n",
    "    sys.exit(1) \n",
    "finally: \n",
    "    if con: \n",
    "        con.close()\n"
   ]
  },
  {
   "cell_type": "code",
   "execution_count": 94,
   "metadata": {
    "collapsed": false
   },
   "outputs": [
    {
     "name": "stdout",
     "output_type": "stream",
     "text": [
      "[(u'0912173381', u'United State', u'Jhon Doe'), (u'0928375018', u'Tokyo Japan', u'MuMu Cat'), (u'0957209108', u'Taipei', u'Richard')]\n",
      "Jhon Doe\n",
      "MuMu Cat\n",
      "Richard\n"
     ]
    }
   ],
   "source": [
    "import sqlite3 as lite \n",
    "import sys \n",
    "con = lite.connect(\"test.db\") \n",
    "with con: \n",
    "    cur = con.cursor() # Drop Table If Exisits \n",
    "    cur.execute(\"DROP TABLE IF EXISTS PhoneAddress\") \n",
    "    cur.execute(\"CREATE TABLE PhoneAddress(phone CHAR(10) PRIMARY KEY, address TEXT, name TEXT unique, age INT NOT NULL)\") \n",
    "    cur.execute(\"INSERT INTO PhoneAddress VALUES('0912173381','United State','Jhon Doe',53)\") \n",
    "    cur.execute(\"INSERT INTO PhoneAddress VALUES('0928375018','Tokyo Japan','MuMu Cat',6)\") \n",
    "    cur.execute(\"INSERT INTO PhoneAddress VALUES('0957209108','Taipei','Richard',29)\") \n",
    "    cur.execute(\"SELECT phone,address, name FROM PhoneAddress\") \n",
    "    data = cur.fetchall() \n",
    "    print data\n",
    "    for rec in data:\n",
    "        print rec[2]\n",
    "    #    print rec[0], rec[1] \n",
    "con.close() \n"
   ]
  },
  {
   "cell_type": "code",
   "execution_count": 100,
   "metadata": {
    "collapsed": false
   },
   "outputs": [
    {
     "name": "stdout",
     "output_type": "stream",
     "text": [
      "(0, u'phone', u'CHAR(10)', 0, None, 1)\n",
      "(1, u'address', u'TEXT', 0, None, 0)\n",
      "(2, u'name', u'TEXT', 0, None, 0)\n",
      "(3, u'age', u'INT', 1, None, 0)\n"
     ]
    }
   ],
   "source": [
    "import sqlite3 as lite \n",
    "import sys \n",
    "con = lite.connect(\"test.db\") \n",
    "with con: \n",
    "    cur = con.cursor()\n",
    "    # Read Meta Information\n",
    "    cur.execute(\"PRAGMA table_info(PhoneAddress)\")    \n",
    "    rows = cur.fetchall()\n",
    "    #rows[0][1] = 'applw'\n",
    "    for row in rows:\n",
    "        print row\n",
    "con.close() \n"
   ]
  },
  {
   "cell_type": "code",
   "execution_count": 104,
   "metadata": {
    "collapsed": false
   },
   "outputs": [
    {
     "name": "stdout",
     "output_type": "stream",
     "text": [
      "(u'0912173381', u'United State')\n",
      "[(u'0928375018', u'Tokyo Japan'), (u'0957209108', u'Taipei')]\n"
     ]
    }
   ],
   "source": [
    "import sqlite3 as lite \n",
    "import sys \n",
    "con = lite.connect(\"test.db\") \n",
    "with con:     \n",
    "    cur = con.cursor()\n",
    "    cur.execute(\"SELECT phone,address FROM PhoneAddress\") \n",
    "    data = cur.fetchone()     \n",
    "    print data\n",
    "    #print data[0], data[1]\n",
    "    \n",
    "    rows = cur.fetchall()\n",
    "    print rows\n",
    "    #for row in rows:\n",
    "    #    print row\n",
    "con.close() \n"
   ]
  },
  {
   "cell_type": "code",
   "execution_count": 106,
   "metadata": {
    "collapsed": false
   },
   "outputs": [
    {
     "name": "stdout",
     "output_type": "stream",
     "text": [
      "{'opening_date': datetime.datetime(2013, 10, 14, 0, 0), 'tender_awarding_date': datetime.datetime(2013, 10, 14, 0, 0), 'entity_code': u'3.7.74.37', 'procurement_type': u'\\u516c\\u958b\\u53d6\\u5f97\\u5831\\u50f9\\u55ae\\u6216\\u4f01\\u5283\\u66f8', 'procuring_entity': u'\\u81fa\\u7063\\u83f8\\u9152\\u80a1\\u4efd\\u6709\\u9650\\u516c\\u53f8\\u9686\\u7530\\u9152\\u5ee0', 'attr_of_procurement': u'<\\u8ca1\\u7269\\u985e>32\\u7d19\\u6f3f,\\u7d19\\u53ca\\u7d19\\u7522\\u54c1;\\u5370\\u5237\\u54c1\\u53ca\\u76f8\\u95dc\\u7684\\u5546\\u54c1', 'tender_awarding_announce_date': datetime.datetime(2013, 10, 18, 0, 0), 'subject_of_procurement': u'5.4\\u516c\\u5347\\u87f2\\u8349\\u990a\\u751f\\u9152\\u5f69\\u76d25,000\\u500b', 'project_type': u'\\u975e\\u5c6c\\u611b\\u53f0\\u5341\\u4e8c\\u9805\\u8a08\\u756b', 'attr_of_tender_awarding': u'\\u6c7a\\u6a19\\u516c\\u544a', 'job_number': u'102-0400-1-051', 'tender_awarding_type': u'\\u6700\\u4f4e\\u6a19'}\n",
      "{1: {'tenderer_name': u'\\u8aa0\\u6bc5\\u7d19\\u5668\\u80a1\\u4efd\\u6709\\u9650\\u516c\\u53f8', 'orgnization_type': u'\\u516c\\u53f8\\u767b\\u8a18', 'tenderer_code': u'75580992', 'tenderer_num': 1, 'awarded': u'\\u662f'}, 2: {'tenderer_name': u'\\u9f8d\\u5347\\u5370\\u5237\\u6709\\u9650\\u516c\\u53f8', 'orgnization_type': u'\\u516c\\u53f8\\u767b\\u8a18', 'tenderer_code': u'70489398', 'tenderer_num': 2, 'awarded': u'\\u5426'}, 3: {'tenderer_name': u'\\u9f8d\\u5b8f\\u5370\\u5237\\u6709\\u9650\\u516c\\u53f8', 'orgnization_type': u'\\u516c\\u53f8\\u767b\\u8a18', 'tenderer_code': u'72205903', 'tenderer_num': 3, 'awarded': u'\\u5426'}, 4: {'tenderer_name': u'\\u6377\\u91c7\\u5370\\u5237\\u4e8b\\u696d\\u80a1\\u4efd\\u6709\\u9650\\u516c\\u53f8', 'orgnization_type': u'\\u516c\\u53f8\\u767b\\u8a18', 'tenderer_code': u'23518409', 'tenderer_num': 4, 'awarded': u'\\u5426'}, 5: {'tenderer_name': u'\\u5927\\u6689\\u5f69\\u8272\\u5370\\u5237\\u6709\\u9650\\u516c\\u53f8', 'orgnization_type': u'\\u516c\\u53f8\\u767b\\u8a18', 'tenderer_code': u'22098203', 'tenderer_num': 5, 'awarded': u'\\u5426'}}\n",
      "{1: {1: {'request_number': u'5000', 'awarded_tenderer': u'\\u8aa0\\u6bc5\\u7d19\\u5668\\u80a1\\u4efd\\u6709\\u9650\\u516c\\u53f8'}}}\n"
     ]
    }
   ],
   "source": [
    "ele = get_response_element('51081295_102-0400-1-051.txt') \n",
    "award_info_dic = get_award_info_dic(ele) \n",
    "tenderer_info_dic = get_tenderer_info_dic(ele) \n",
    "tender_award_item_dic = get_tender_award_item_dic(ele)\n",
    "\n",
    "print award_info_dic\n",
    "print tenderer_info_dic \n",
    "print tender_award_item_dic \n"
   ]
  },
  {
   "cell_type": "code",
   "execution_count": 126,
   "metadata": {
    "collapsed": true
   },
   "outputs": [],
   "source": [
    "# -*- coding: utf-8 -*- \n",
    "import sqlite3\n",
    "\n",
    "db = sqlite3.connect('tender.db') \n",
    "cur = db.cursor()"
   ]
  },
  {
   "cell_type": "code",
   "execution_count": 127,
   "metadata": {
    "collapsed": false
   },
   "outputs": [
    {
     "data": {
      "text/plain": [
       "<sqlite3.Cursor at 0x10dc0f960>"
      ]
     },
     "execution_count": 127,
     "metadata": {},
     "output_type": "execute_result"
    }
   ],
   "source": [
    "cur.execute('''CREATE TABLE IF NOT EXISTS Tender_awards(\n",
    "                id INTEGER PRIMARY KEY,\n",
    "                pkAtmMain TEXT,\n",
    "                procuring_entity TEXT,\n",
    "                entity_code TEXT,\n",
    "                attr_of_procurement TEXT,\n",
    "                opening_date DATETIME,\n",
    "                procurement_type TEXT,\n",
    "                tender_awarding_type TEXT,\n",
    "                project_type TEXT,\n",
    "                subject_of_procurement TEXT,\n",
    "                job_number TEXT,\n",
    "                budget_value BIGINTEGER,\n",
    "                attr_of_tender_awarding TEXT,\n",
    "                floor_price_value BIGINTEGER,\n",
    "                tender_awarding_announce_date DATETIME,\n",
    "                tender_awarding_date DATETIME,\n",
    "                total_tender_awarding_value BIGINTEGER\n",
    "                )''')"
   ]
  },
  {
   "cell_type": "code",
   "execution_count": 128,
   "metadata": {
    "collapsed": false
   },
   "outputs": [
    {
     "data": {
      "text/plain": [
       "<sqlite3.Cursor at 0x10dc0f960>"
      ]
     },
     "execution_count": 128,
     "metadata": {},
     "output_type": "execute_result"
    }
   ],
   "source": [
    "cur.execute('''CREATE TABLE IF NOT EXISTS Tenderer(\n",
    "    id INTEGER PRIMARY KEY,\n",
    "    pkAtmMain TEXT,\n",
    "    job_number TEXT,\n",
    "    tenderer_code TEXT,\n",
    "    tenderer_name TEXT,                \n",
    "    awarded TEXT,\n",
    "    orgnization_type TEXT,\n",
    "    tenderer_num INT\n",
    "    )''')\t"
   ]
  },
  {
   "cell_type": "code",
   "execution_count": 129,
   "metadata": {
    "collapsed": false
   },
   "outputs": [
    {
     "data": {
      "text/plain": [
       "<sqlite3.Cursor at 0x10dc0f960>"
      ]
     },
     "execution_count": 129,
     "metadata": {},
     "output_type": "execute_result"
    }
   ],
   "source": [
    "cur.execute('''CREATE TABLE IF NOT EXISTS Tender_award_item(\n",
    "    id INTEGER PRIMARY KEY,\n",
    "    pkAtmMain TEXT,\n",
    "    job_number TEXT,\n",
    "    awarded_tenderer TEXT,\n",
    "    request_number INT,                \n",
    "    tender_awarding_value BIGINT,\n",
    "    floor_price_value BIGINT,\n",
    "    item_num INT,\n",
    "    awarded_num INT\n",
    "    )''')"
   ]
  },
  {
   "cell_type": "code",
   "execution_count": 130,
   "metadata": {
    "collapsed": false
   },
   "outputs": [
    {
     "name": "stdout",
     "output_type": "stream",
     "text": [
      "{'opening_date': datetime.datetime(2013, 10, 14, 0, 0), 'tender_awarding_date': datetime.datetime(2013, 10, 14, 0, 0), 'entity_code': u'3.7.74.37', 'procurement_type': u'\\u516c\\u958b\\u53d6\\u5f97\\u5831\\u50f9\\u55ae\\u6216\\u4f01\\u5283\\u66f8', 'procuring_entity': u'\\u81fa\\u7063\\u83f8\\u9152\\u80a1\\u4efd\\u6709\\u9650\\u516c\\u53f8\\u9686\\u7530\\u9152\\u5ee0', 'attr_of_procurement': u'<\\u8ca1\\u7269\\u985e>32\\u7d19\\u6f3f,\\u7d19\\u53ca\\u7d19\\u7522\\u54c1;\\u5370\\u5237\\u54c1\\u53ca\\u76f8\\u95dc\\u7684\\u5546\\u54c1', 'tender_awarding_announce_date': datetime.datetime(2013, 10, 18, 0, 0), 'subject_of_procurement': u'5.4\\u516c\\u5347\\u87f2\\u8349\\u990a\\u751f\\u9152\\u5f69\\u76d25,000\\u500b', 'project_type': u'\\u975e\\u5c6c\\u611b\\u53f0\\u5341\\u4e8c\\u9805\\u8a08\\u756b', 'attr_of_tender_awarding': u'\\u6c7a\\u6a19\\u516c\\u544a', 'job_number': u'102-0400-1-051', 'tender_awarding_type': u'\\u6700\\u4f4e\\u6a19'}\n",
      "{1: {'tenderer_name': u'\\u8aa0\\u6bc5\\u7d19\\u5668\\u80a1\\u4efd\\u6709\\u9650\\u516c\\u53f8', 'orgnization_type': u'\\u516c\\u53f8\\u767b\\u8a18', 'tenderer_code': u'75580992', 'tenderer_num': 1, 'awarded': u'\\u662f'}, 2: {'tenderer_name': u'\\u9f8d\\u5347\\u5370\\u5237\\u6709\\u9650\\u516c\\u53f8', 'orgnization_type': u'\\u516c\\u53f8\\u767b\\u8a18', 'tenderer_code': u'70489398', 'tenderer_num': 2, 'awarded': u'\\u5426'}, 3: {'tenderer_name': u'\\u9f8d\\u5b8f\\u5370\\u5237\\u6709\\u9650\\u516c\\u53f8', 'orgnization_type': u'\\u516c\\u53f8\\u767b\\u8a18', 'tenderer_code': u'72205903', 'tenderer_num': 3, 'awarded': u'\\u5426'}, 4: {'tenderer_name': u'\\u6377\\u91c7\\u5370\\u5237\\u4e8b\\u696d\\u80a1\\u4efd\\u6709\\u9650\\u516c\\u53f8', 'orgnization_type': u'\\u516c\\u53f8\\u767b\\u8a18', 'tenderer_code': u'23518409', 'tenderer_num': 4, 'awarded': u'\\u5426'}, 5: {'tenderer_name': u'\\u5927\\u6689\\u5f69\\u8272\\u5370\\u5237\\u6709\\u9650\\u516c\\u53f8', 'orgnization_type': u'\\u516c\\u53f8\\u767b\\u8a18', 'tenderer_code': u'22098203', 'tenderer_num': 5, 'awarded': u'\\u5426'}}\n",
      "{1: {1: {'request_number': u'5000', 'awarded_tenderer': u'\\u8aa0\\u6bc5\\u7d19\\u5668\\u80a1\\u4efd\\u6709\\u9650\\u516c\\u53f8'}}}\n"
     ]
    }
   ],
   "source": [
    "ele = get_response_element('51081295_102-0400-1-051.txt') \n",
    "award_info_dic = get_award_info_dic(ele) \n",
    "tenderer_info_dic = get_tenderer_info_dic(ele) \n",
    "tender_award_item_dic = get_tender_award_item_dic(ele)\n",
    "\n",
    "print award_info_dic\n",
    "print tenderer_info_dic \n",
    "print tender_award_item_dic \n"
   ]
  },
  {
   "cell_type": "code",
   "execution_count": 131,
   "metadata": {
    "collapsed": false
   },
   "outputs": [
    {
     "name": "stdout",
     "output_type": "stream",
     "text": [
      "{'opening_date': datetime.datetime(2013, 10, 14, 0, 0), 'tender_awarding_date': datetime.datetime(2013, 10, 14, 0, 0), 'entity_code': u'3.7.74.37', 'procurement_type': u'\\u516c\\u958b\\u53d6\\u5f97\\u5831\\u50f9\\u55ae\\u6216\\u4f01\\u5283\\u66f8', 'procuring_entity': u'\\u81fa\\u7063\\u83f8\\u9152\\u80a1\\u4efd\\u6709\\u9650\\u516c\\u53f8\\u9686\\u7530\\u9152\\u5ee0', 'attr_of_procurement': u'<\\u8ca1\\u7269\\u985e>32\\u7d19\\u6f3f,\\u7d19\\u53ca\\u7d19\\u7522\\u54c1;\\u5370\\u5237\\u54c1\\u53ca\\u76f8\\u95dc\\u7684\\u5546\\u54c1', 'tender_awarding_announce_date': datetime.datetime(2013, 10, 18, 0, 0), 'subject_of_procurement': u'5.4\\u516c\\u5347\\u87f2\\u8349\\u990a\\u751f\\u9152\\u5f69\\u76d25,000\\u500b', 'project_type': u'\\u975e\\u5c6c\\u611b\\u53f0\\u5341\\u4e8c\\u9805\\u8a08\\u756b', 'attr_of_tender_awarding': u'\\u6c7a\\u6a19\\u516c\\u544a', 'job_number': u'102-0400-1-051', 'tender_awarding_type': u'\\u6700\\u4f4e\\u6a19'}\n"
     ]
    }
   ],
   "source": [
    "print award_info_dic"
   ]
  },
  {
   "cell_type": "code",
   "execution_count": 132,
   "metadata": {
    "collapsed": false
   },
   "outputs": [
    {
     "name": "stdout",
     "output_type": "stream",
     "text": [
      "opening_date, tender_awarding_date, entity_code, procurement_type, procuring_entity, attr_of_procurement, tender_awarding_announce_date, subject_of_procurement, project_type, attr_of_tender_awarding, job_number, tender_awarding_type\n",
      "12\n",
      "? ? ? ? ? ? ? ? ? ? ? ? \n",
      "opening_date, tender_awarding_date, entity_code, procurement_type, procuring_entity, attr_of_procurement, tender_awarding_announce_date, subject_of_procurement, project_type, attr_of_tender_awarding, job_number, tender_awarding_type\n",
      "?, ?, ?, ?, ?, ?, ?, ?, ?, ?, ?, ?\n",
      "INSERT INTO Tender_awards (opening_date, tender_awarding_date, entity_code, procurement_type, procuring_entity, attr_of_procurement, tender_awarding_announce_date, subject_of_procurement, project_type, attr_of_tender_awarding, job_number, tender_awarding_type) VALUES (?, ?, ?, ?, ?, ?, ?, ?, ?, ?, ?, ?)\n"
     ]
    },
    {
     "data": {
      "text/plain": [
       "<sqlite3.Cursor at 0x10dc0f960>"
      ]
     },
     "execution_count": 132,
     "metadata": {},
     "output_type": "execute_result"
    }
   ],
   "source": [
    "# insert statement insert into tender_awards(c1,c2) values(?,?)\n",
    "print ', '.join(award_info_dic.keys())\n",
    "print len(award_info_dic)\n",
    "print '? ' * len(award_info_dic)\n",
    "\n",
    "columns = ', '.join(award_info_dic.keys()) \n",
    "placeholders = ', '.join('?' * len(award_info_dic)) \n",
    "print columns\n",
    "print placeholders\n",
    "\n",
    "sql = 'INSERT INTO Tender_awards ({}) VALUES ({})'.format(columns, placeholders) \n",
    "print sql\n",
    "cur.execute(sql, award_info_dic.values())\n"
   ]
  },
  {
   "cell_type": "code",
   "execution_count": 133,
   "metadata": {
    "collapsed": false
   },
   "outputs": [
    {
     "name": "stdout",
     "output_type": "stream",
     "text": [
      "75580992 誠毅紙器股份有限公司 是 公司登記\n",
      "70489398 龍升印刷有限公司 否 公司登記\n",
      "72205903 龍宏印刷有限公司 否 公司登記\n",
      "23518409 捷采印刷事業股份有限公司 否 公司登記\n",
      "22098203 大暉彩色印刷有限公司 否 公司登記\n"
     ]
    }
   ],
   "source": [
    "tenderer_sql = 'INSERT INTO Tenderer (pkAtmMain, job_number, tenderer_code, tenderer_name, awarded, orgnization_type, tenderer_num) VALUES (?,?,?,?,?,?,?) '\n",
    "\n",
    "filename = \"'51081295_102-0400-1-051.txt\"\n",
    "file_param = filename.split(\".txt\")[0].split(\"_\") \n",
    "pkAtmMain = file_param[0] \n",
    "job_number = '_'.join(file_param[1:]) \n",
    "\n",
    "for ele in tenderer_info_dic : \n",
    "        #cur.execute(tenderer_sql , (pkAtmMain, job_number,  \n",
    "        print tenderer_info_dic[ele][\"tenderer_code\"],   tenderer_info_dic[ele][\"tenderer_name\"], tenderer_info_dic[ele][\"awarded\"], tenderer_info_dic[ele][\"orgnization_type\"]\n",
    "#db.commit() \n",
    "#db.close()\n",
    "\n",
    "\n"
   ]
  },
  {
   "cell_type": "code",
   "execution_count": 134,
   "metadata": {
    "collapsed": true
   },
   "outputs": [],
   "source": [
    "tenderer_sql = 'INSERT INTO Tenderer (pkAtmMain, job_number, tenderer_code, tenderer_name, awarded, orgnization_type, tenderer_num) VALUES (?,?,?,?,?,?,?) '\n",
    "\n",
    "Filename = \"51081295_102-0400-1-051.txt\"\n",
    "file_param = filename.split(\".txt\")[0].split(\"_\") \n",
    "pkAtmMain = file_param[0] \n",
    "job_number = '_'.join(file_param[1:]) \n",
    "\n",
    "for ele in tenderer_info_dic : \n",
    "        cur.execute(tenderer_sql , (pkAtmMain, job_number,  \n",
    "          tenderer_info_dic[ele][\"tenderer_code\"],   \n",
    "          tenderer_info_dic[ele][\"tenderer_name\"], \n",
    "          tenderer_info_dic[ele][\"awarded\"], \n",
    "          tenderer_info_dic[ele][\"orgnization_type\"], ele))\n",
    "#db.commit() \n",
    "#db.close()\n",
    "\n",
    "\n"
   ]
  },
  {
   "cell_type": "code",
   "execution_count": 135,
   "metadata": {
    "collapsed": true
   },
   "outputs": [],
   "source": [
    "db.commit() \n",
    "db.close()\n"
   ]
  },
  {
   "cell_type": "code",
   "execution_count": 136,
   "metadata": {
    "collapsed": true
   },
   "outputs": [],
   "source": [
    "import sqlite3 as lite\n",
    "\n",
    "salary = (\n",
    "    (1 ,          'Paul'  ,      32 ,         'California',  20000),\n",
    "    (2 ,          'Allen' ,      25 ,         'Texas'     ,  15000),\n",
    "    (3 ,          'Teddy' ,      23 ,         'Norway'    ,  20000),\n",
    "    (4 ,          'Mark'  ,      25 ,         'Rich-Mond' ,  65000),\n",
    "    (5 ,          'David' ,      27 ,         'Texas'     ,  85000),\n",
    "    (6 ,          'Kim'   ,      22 ,         'South-Hall',  45000),\n",
    "    (7 ,          'James' ,      24 ,         'Houston'   ,  10000)\n",
    ")\n",
    "department = (\n",
    "(1,           'IT Billing'  ,1),\n",
    "(2,           'Engineerin'  ,2),\n",
    "(3,           'Finance'     ,7),\n",
    "(4,           'Finance'     ,5),\n",
    "(5,           'Finance'     ,6)\n",
    "\n",
    ")\n"
   ]
  },
  {
   "cell_type": "code",
   "execution_count": 137,
   "metadata": {
    "collapsed": true
   },
   "outputs": [],
   "source": [
    "con = lite.connect('test.db')\n",
    "\n",
    "with con:\n",
    "    \n",
    "    cur = con.cursor()    \n",
    "    \n",
    "    cur.execute(\"DROP TABLE IF EXISTS Salary\")\n",
    "    cur.execute(\"DROP TABLE IF EXISTS Department\")\n",
    "    \n",
    "    cur.execute(\"CREATE TABLE Salary(ID INT, NAME TEXT, AGE INT, ADDRESS TEXT, SALARY INT, FOREIGN KEY(ID) REFERENCES QOO(EMP_ID))\")\n",
    "    cur.executemany(\"INSERT INTO Salary VALUES(?, ?, ?, ?, ?)\", salary)\n",
    "    \n",
    "    \n",
    "    cur.execute(\"CREATE TABLE Department(ID INT PRIMARY KEY, DEPT CHAR(50), EMP_ID INT)\")\n",
    "    cur.executemany(\"INSERT INTO Department VALUES(?, ?, ?)\", department)\n",
    "con.close() \n"
   ]
  },
  {
   "cell_type": "code",
   "execution_count": 139,
   "metadata": {
    "collapsed": false
   },
   "outputs": [
    {
     "name": "stdout",
     "output_type": "stream",
     "text": [
      "5.15649390221\n",
      "(1000000,)\n"
     ]
    }
   ],
   "source": [
    "import time\n",
    "dbname = 'test.db'\n",
    "con = lite.connect(dbname)\n",
    "\n",
    "items = tuple(range(1,1000000))\n",
    "with con:\n",
    "    \n",
    "    cur = con.cursor()    \n",
    "    \n",
    "    cur.execute(\"DROP TABLE IF EXISTS ptest\")\n",
    "    cur.execute(\"CREATE TABLE ptest(ID INT)\")\n",
    "    start = time.time()\n",
    "    for i in range(0,1000000):\n",
    "        cur.execute(\"INSERT INTO ptest VALUES(%s)\"%(i))\n",
    "    end = time.time()\n",
    "    print end -start\n",
    "    cur.execute(\"select count(1) from ptest\")\n",
    "    rows = cur.fetchone()\n",
    "    print rows\n",
    "\n",
    "con.close() \n"
   ]
  },
  {
   "cell_type": "code",
   "execution_count": 140,
   "metadata": {
    "collapsed": false
   },
   "outputs": [
    {
     "name": "stdout",
     "output_type": "stream",
     "text": [
      "1.06514120102\n",
      "(1000000,)\n"
     ]
    }
   ],
   "source": [
    "dbname = 'test.db'\n",
    "con = lite.connect(dbname)\n",
    "\n",
    "with con:\n",
    "    \n",
    "    cur = con.cursor()    \n",
    "    \n",
    "    cur.execute(\"DROP TABLE IF EXISTS ptest\")\n",
    "    cur.execute(\"CREATE TABLE ptest(ID INT)\")\n",
    "    start = time.time()\n",
    "    cur.executemany(\"INSERT INTO ptest VALUES(?)\",((id_, ) for id_ in xrange(1000000)))\n",
    "    end = time.time()\n",
    "    print end -start\n",
    "    cur.execute(\"select count(1) from ptest\")\n",
    "    rows = cur.fetchone()\n",
    "    print rows\n",
    "\n",
    "con.close() \n"
   ]
  },
  {
   "cell_type": "code",
   "execution_count": 142,
   "metadata": {
    "collapsed": false
   },
   "outputs": [
    {
     "name": "stdout",
     "output_type": "stream",
     "text": [
      "(u'0928375018', u'Tokyo Japan', u'MuMu Cat', 9)\n"
     ]
    }
   ],
   "source": [
    "con = lite.connect('test.db')\n",
    "\n",
    "Phone = '0928375018'\n",
    "Age = 9 \n",
    "\n",
    "with con:\n",
    "\n",
    "    cur = con.cursor()    \n",
    "\n",
    "    cur.execute(\"UPDATE PhoneAddress SET age=? WHERE phone=?\", (Age, Phone))        \n",
    "    con.commit()\n",
    "    con.rollback()\n",
    "    \n",
    "    cur.execute(\"select * from PhoneAddress where phone=?\", (Phone,)) \n",
    "    rows = cur.fetchall()\n",
    "\n",
    "    for row in rows:\n",
    "        print row\n",
    "con.close() \n"
   ]
  },
  {
   "cell_type": "code",
   "execution_count": 143,
   "metadata": {
    "collapsed": true
   },
   "outputs": [],
   "source": [
    "def insert_award_info (cur, data_dic, filename): \n",
    "    file_param = filename.split(\".txt\")[0].split(\"_\") \n",
    "    pkAtmMain = file_param[0] \n",
    "    data_dic['pkAtmMain'] = pkAtmMain \n",
    "    columns = ', '.join(data_dic.keys()) \n",
    "    placeholders = ', '.join('?' * len(data_dic)) \n",
    "    sql = 'INSERT INTO Tender_awards ({}) VALUES ({})'.format(columns, placeholders) \n",
    "    cur.execute(sql, data_dic.values())\n"
   ]
  },
  {
   "cell_type": "code",
   "execution_count": 144,
   "metadata": {
    "collapsed": true
   },
   "outputs": [],
   "source": [
    "tenderer_sql = 'INSERT INTO Tenderer (pkAtmMain, job_number, tenderer_code, tenderer_name, awarded, orgnization_type, tenderer_num) VALUES (?,?,?,?,?,?,?)'\n",
    "\n",
    "def insert_tenderer_info (cur, data_dic, filename, sql):     \n",
    "    file_param = filename.split(\".txt\")[0].split(\"_\") \n",
    "    pkAtmMain = file_param[0] \n",
    "    job_number = '_'.join(file_param[1:]) \n",
    "    for ele in data_dic: \n",
    "        cur.execute(sql, (pkAtmMain, job_number, data_dic[ele][\"tenderer_code\"],   \n",
    "          data_dic[ele][\"tenderer_name\"], data_dic[ele][\"awarded\"], \n",
    "          data_dic[ele][\"orgnization_type\"], ele))\n",
    "\n",
    "\n",
    "\n",
    "\n"
   ]
  },
  {
   "cell_type": "code",
   "execution_count": 145,
   "metadata": {
    "collapsed": true
   },
   "outputs": [],
   "source": [
    "tenderawarditem_sql = 'INSERT INTO Tender_award_item (pkAtmMain, job_number, awarded_tenderer, request_number, tender_awarding_value, floor_price_value, item_num, awarded_num) VALUES (?,?,?,?,?,?,?,?)' \n",
    "\n",
    "def insert_tenderawarditem_info(cur, data_dic, filename, sql): \n",
    "    file_param = filename.split(\".txt\")[0].split(\"_\") \n",
    "    pkAtmMain = file_param[0] \n",
    "    job_number = '_'.join(file_param[1:]) \n",
    "    for item in data_dic: \n",
    "        for grp in data_dic[item]: \n",
    "            if 'floor_price_value' not in data_dic[item][grp]: \n",
    "                data_dic[item][grp]['floor_price_value'] = None \n",
    "            if 'tender_awarding_value' not in data_dic[item][grp]: \n",
    "                data_dic[item][grp]['tender_awarding_value'] = None \n",
    "            cur.execute(sql, (pkAtmMain, job_number, \n",
    "              data_dic[item][grp][\"awarded_tenderer\"], \n",
    "              data_dic[item][grp][\"request_number\"], \n",
    "              data_dic[item][grp][\"tender_awarding_value\"], \n",
    "              data_dic[item][grp][\"floor_price_value\"], item, grp)) \n"
   ]
  },
  {
   "cell_type": "code",
   "execution_count": 146,
   "metadata": {
    "collapsed": true
   },
   "outputs": [],
   "source": [
    "def setup_table(cur):\n",
    "\tcur.execute('''CREATE TABLE IF NOT EXISTS Tender_awards(\n",
    "                id INTEGER PRIMARY KEY,\n",
    "                pkAtmMain TEXT,\n",
    "                procuring_entity TEXT,\n",
    "                entity_code TEXT,\n",
    "                attr_of_procurement TEXT,\n",
    "                opening_date DATETIME,\n",
    "                procurement_type TEXT,\n",
    "                tender_awarding_type TEXT,\n",
    "                project_type TEXT,\n",
    "                subject_of_procurement TEXT,\n",
    "                job_number TEXT,\n",
    "                budget_value BIGINTEGER,\n",
    "                attr_of_tender_awarding TEXT,\n",
    "                floor_price_value BIGINTEGER,\n",
    "                tender_awarding_announce_date DATETIME,\n",
    "                tender_awarding_date DATETIME,\n",
    "                total_tender_awarding_value BIGINTEGER\n",
    "                )''')\n",
    "\t\t\n",
    "\tcur.execute('''CREATE TABLE IF NOT EXISTS Tenderer(\n",
    "                id INTEGER PRIMARY KEY,\n",
    "                pkAtmMain TEXT,\n",
    "                job_number TEXT,\n",
    "\t\ttenderer_code TEXT,\n",
    "\t\ttenderer_name TEXT,                \n",
    "\t\tawarded TEXT,\n",
    "\t\torgnization_type TEXT,\n",
    "\t\ttenderer_num INT\n",
    "                )''')\t\t\n",
    "\tcur.execute('''CREATE TABLE IF NOT EXISTS Tender_award_item(\n",
    "                id INTEGER PRIMARY KEY,\n",
    "                pkAtmMain TEXT,\n",
    "                job_number TEXT,\t\t\n",
    "\t\tawarded_tenderer TEXT,\n",
    "\t\trequest_number INT,                \n",
    "\t\ttender_awarding_value BIGINT,\n",
    "\t\tfloor_price_value BIGINT,\n",
    "\t\titem_num INT,\n",
    "\t\tawarded_num INT\n",
    "                )''')"
   ]
  },
  {
   "cell_type": "code",
   "execution_count": 153,
   "metadata": {
    "collapsed": false
   },
   "outputs": [
    {
     "name": "stdout",
     "output_type": "stream",
     "text": [
      "51099604_1026604961.txt\n",
      "51122915_TS1021101.txt\n",
      "51125369_102bali-005-1.txt\n",
      "51170299_L1331021201.txt\n",
      "51235230_10305.txt\n",
      "51236707_1010062-1.txt\n",
      "51238144_C1030415.txt\n",
      "51238769_A35014.txt\n",
      "51238854_1030307.txt\n",
      "51238970_1030020088C.txt\n",
      "51239198_103-4-1055.txt\n",
      "51239201_10302.txt\n",
      "51239203_AGB-103-D-002.txt\n",
      "51239215_002-103-3-3-02.txt\n",
      "51239216_NCC-Y103-010.txt\n",
      "51239231_103-02-011.txt\n",
      "51239232_102-01-009.txt\n",
      "51239233_103-02-033.txt\n",
      "51239234_103-02-029.txt\n",
      "51239245_103A03.txt\n",
      "51239246_D103-0210-1.txt\n",
      "51239255_103022701.txt\n",
      "51239256_103021401.txt\n",
      "51239270_LEB0370001.txt\n",
      "51239272_UBC028F002.txt\n",
      "51239274_UCA028C009.txt\n",
      "51239281_103-04.txt\n",
      "51239284_10318.txt\n",
      "51239291_0607L1030328.txt\n",
      "51239293_TZ10303B.txt\n",
      "51239295_FH03007P031.txt\n",
      "51239296_FH03006P029.txt\n",
      "51239297_FH03032P033.txt\n",
      "51239299_EB10317.txt\n",
      "51239301_EB10319.txt\n",
      "51239319_103-A-09.txt\n",
      "51239320_103012.txt\n",
      "51239326_103-0417.txt\n",
      "51239328_1030304.txt\n",
      "51239329_103301024.txt\n",
      "51239331_W10P103017.txt\n",
      "51239334_103105.txt\n",
      "51239335_103013.txt\n",
      "51239342_103014.txt\n",
      "51239343_1031B00000006A01.txt\n",
      "51239347_103107.txt\n",
      "51239351_1030415.txt\n",
      "51239354_1030833.txt\n",
      "51239361_W10P103012.txt\n",
      "51239369_1030403D3.txt\n",
      "51239371_4197.txt\n",
      "51239373_SV-103005.txt\n",
      "51239377_103028.txt\n",
      "51239388_BAA0384001.txt\n",
      "51239390_ze103-23.txt\n",
      "51239395_1030324.txt\n",
      "51239412_103036.txt\n",
      "51239414_103230230128.txt\n",
      "51239415_10328.txt\n",
      "51239416_103026.txt\n",
      "51239417_103TMACH06S.txt\n",
      "51239444_10331.txt\n",
      "51239447_103H15.txt\n",
      "51239456_103TMACH09S.txt\n",
      "51239457_1030327.txt\n",
      "51239465_chjh103-004.txt\n",
      "51239468_3410300075-S03023.txt\n",
      "51239481_103-TY-137.txt\n",
      "51239482_P9903.txt\n",
      "51239486_103FC002.txt\n",
      "51239487_1030318.txt\n",
      "51239509_A103000002.txt\n",
      "51239510_1030228.txt\n",
      "51239514_Jcs-1030501.txt\n",
      "51239526_1030401.txt\n",
      "51239530_NF103001.txt\n",
      "51239531_1030402B3.txt\n",
      "51239533_103-03-080.txt\n",
      "51239537_NPM103037.txt\n",
      "51239544_FD03004P004.txt\n",
      "51239550_D103002.txt\n",
      "51239554_FD03007P005.txt\n",
      "51239564_1030401.txt\n",
      "51239565_iris0331.txt\n",
      "51239566_103-0052616.txt\n",
      "51239575_AASC-103084.txt\n",
      "51239576_A1030137ENG011.txt\n",
      "51239597_HJ03242P121.txt\n",
      "51239606_1030206.txt\n",
      "51239608_103A159.txt\n",
      "51239609_102107-1.txt\n",
      "51239617_klnes1030428.txt\n",
      "51239619_103C2022.txt\n",
      "51239621_1030201.txt\n",
      "51239625_103HA164C3.txt\n",
      "51239635_103-005.txt\n",
      "51239644_B103170.txt\n",
      "51239647_103A119.txt\n",
      "51239648_E1021212.txt\n",
      "51239650_102108-1.txt\n",
      "51239654_B103167.txt\n",
      "51239659_E1021220.txt\n",
      "51239662_B103169.txt\n",
      "51239663_1030325-1.txt\n",
      "51239664_M03I6247.txt\n",
      "51239667_B103162.txt\n",
      "51239668_1030415.txt\n",
      "51239675_103203.txt\n",
      "51239676_tms103064.txt\n",
      "51239680_01-10304086.txt\n",
      "51239683_1030326AA.txt\n",
      "51239688_S102026-1.txt\n",
      "51239692_103009.txt\n",
      "51239702_B103173.txt\n",
      "51239704_103016.txt\n",
      "51239708_B103165.txt\n",
      "51239709_103-03-27.txt\n",
      "51239714_103A21.txt\n",
      "51239717_XU03E29P092.txt\n",
      "51239720_B103174.txt\n",
      "51239723_1030055.txt\n",
      "51239724_103B042-F7.txt\n",
      "51239725_TC103C023.txt\n",
      "51239727_1030247.txt\n",
      "51239731_103H17.txt\n",
      "51239733_B103131.txt\n",
      "51239734_103008.txt\n",
      "51239738_3510300082.txt\n",
      "51239739_H02028.txt\n",
      "51239741_103A021.txt\n",
      "51239749_DEF0342001.txt\n",
      "51239750_IOT-103-H3D010.txt\n",
      "51239763_1030408.txt\n",
      "51239764_103042111.txt\n",
      "51239765_101001201.txt\n",
      "51239767_103-5.txt\n",
      "51239783_651910318.txt\n",
      "51239789_117.txt\n",
      "51239796_M1030062.txt\n",
      "51239822_A1030211KH049PW.txt\n",
      "51239825_AEC10302010L.txt\n",
      "51239827_103-0311-1-007.txt\n",
      "51239829_C10300519.txt\n",
      "51239832_1012461615.txt\n",
      "51239837_10320.txt\n",
      "51239839_10303A.txt\n",
      "51239843_C103-04.txt\n",
      "51239844_F103-44.txt\n",
      "51239845_1030502.txt\n",
      "51239846_133-103-B068.txt\n",
      "51239849_103B0303.txt\n",
      "51239853_10307.txt\n",
      "51239854_C103-06.txt\n",
      "51239857_TNCFD1030317.txt\n",
      "51239871_1030418.txt\n",
      "51239872_TC103C032.txt\n",
      "51239873_103-0311-1-009.txt\n",
      "51239876_ndc103008.txt\n",
      "51239883_1021011C.txt\n",
      "51239884_103005.txt\n",
      "51239887_10321.txt\n",
      "51239897_103RD024.txt\n",
      "51239903_C103-07.txt\n",
      "51239907_103B0308.txt\n",
      "51239908_1030409.txt\n",
      "51239913_1180300003.txt\n",
      "51239914_HST10312.txt\n",
      "51239925_2014041603.txt\n",
      "51239926_EPB103-2-11.txt\n",
      "51239930_1030428.txt\n",
      "51239931_2014031704.txt\n",
      "51239933_103018.txt\n",
      "51239934_1030314-01.txt\n",
      "51239937_Q10306.txt\n",
      "51239939_M1030085.txt\n",
      "51239940_103B0403.txt\n",
      "51239943_NCCT103005.txt\n",
      "51239946_10308.txt\n",
      "51239950_O-1030319.txt\n",
      "51239954_A103014.txt\n",
      "51239958_117103006-1.txt\n",
      "51239966_52R-140003.txt\n",
      "51239970_103004.txt\n",
      "51239971_ZTL103007.txt\n",
      "51239975_10301.txt\n",
      "51239978_MCA0350002.txt\n",
      "51239982_103-13.txt\n",
      "51239986_103310.txt\n",
      "51239993_gces1030401.txt\n",
      "51239995_NL1030479.txt\n",
      "51240003_103311.txt\n",
      "51240004_AAC1033001.txt\n",
      "51240005_1030403.txt\n",
      "51240006_GW1030417031.txt\n",
      "51240008_c1030023.txt\n",
      "51240009_10302211.txt\n",
      "51240016_103traffic012.txt\n",
      "51240019_103W009.txt\n",
      "51240020_103B0311.txt\n",
      "51240026_10302.txt\n",
      "51240029_103B0307.txt\n",
      "51240034_M03F4176.txt\n",
      "51240035_NTL-lsy1030004.txt\n",
      "51240040_103312.txt\n",
      "51240049_B1030425.txt\n",
      "51240050_103A17.txt\n",
      "51240054_D103-0219-1.txt\n",
      "51240063_103traffic013.txt\n",
      "51240064_103313.txt\n",
      "51240070_1035371594.txt\n",
      "51240072_B961.txt\n",
      "51240074_ze103-27.txt\n",
      "51240076_PULI-10301.txt\n",
      "51240089_1030000325.txt\n",
      "51240090_1030321A.txt\n",
      "51240094_103B-029.txt\n",
      "51240095_1308.txt\n",
      "51240096_103003.txt\n",
      "51240100_1030301.txt\n",
      "51240103_1030428A.txt\n",
      "51240129_H103-006.txt\n",
      "51240131_1030331-1.txt\n",
      "51240132_103-21-23.txt\n",
      "51240137_103033.txt\n",
      "51240142_103-21-20.txt\n",
      "51240146_103TFDA-N-001.txt\n",
      "51240202_103430930099.txt\n",
      "51240240_103310230121.txt\n",
      "51240279_103M602.txt\n",
      "51240484_103A011A.txt\n",
      "51240536_10310.txt\n",
      "51240543_DPD2014041102.txt\n",
      "51240557_NKUHT1524-10310.txt\n",
      "51240570_103B018.txt\n",
      "51240622_DPD2014041101.txt\n",
      "51240623_TC103C036.txt\n",
      "51240655_AASC-103085.txt\n",
      "51240712_103B04.txt\n",
      "51240739_G103EDU043.txt\n",
      "51240824_1030203.txt\n",
      "51240875_B102RD03012.txt\n",
      "51240942_SL-103046.txt\n",
      "51241029_1030011069.txt\n",
      "51241062_SL-103050.txt\n",
      "51241063_103075.txt\n",
      "51241099_103-0021002-029-2-6.txt\n",
      "51241103_P103001.txt\n",
      "51241108_11-1030328.txt\n",
      "51241115_1030404.txt\n",
      "51241135_103-TY-142.txt\n",
      "51241289_103-7.txt\n",
      "51241301_103003.txt\n",
      "51241358_Y103016.txt\n",
      "51241458_10302.txt\n",
      "51241485_103230330119.txt\n",
      "51241496_W103ABC071.txt\n",
      "51241498_103-2-010.txt\n",
      "51241557_NG03035P009P.txt\n",
      "51241573_SL-103043.txt\n",
      "51241602_103-19.txt\n",
      "51241621_MPB10390429.txt\n",
      "51241665_B1030422.txt\n",
      "51241666_B1030411.txt\n",
      "51241674_XW03072P119.txt\n",
      "51241675_XW03118P099.txt\n"
     ]
    }
   ],
   "source": [
    "import os\n",
    "files = os.listdir('/Users/davidchiu/201503ETL/gov')\n",
    "for f in files:\n",
    "    print f\n",
    "    "
   ]
  },
  {
   "cell_type": "code",
   "execution_count": 154,
   "metadata": {
    "collapsed": true
   },
   "outputs": [],
   "source": [
    "db = sqlite3.connect('tender.db') \n",
    "cur = db.cursor() \n",
    "path = \"gov/\" \n",
    "dirs = os.listdir( path ) \n",
    "setup_table(cur) \n",
    "for filename in dirs: \n",
    "    ele = get_response_element(path + filename) \n",
    "    award_info_dic = get_award_info_dic(ele) \n",
    "    tenderer_info_dic = get_tenderer_info_dic(ele) \n",
    "    tender_award_item_dic = get_tender_award_item_dic(ele) \n",
    "    insert_award_info(cur, award_info_dic, filename) \n",
    "    insert_tenderer_info(cur, tenderer_info_dic, filename, tenderer_sql) \n",
    "    insert_tenderawarditem_info(cur, tender_award_item_dic, filename, tenderawarditem_sql) \n",
    "    db.commit() \n",
    "db.close() \n",
    "\n"
   ]
  },
  {
   "cell_type": "code",
   "execution_count": 156,
   "metadata": {
    "collapsed": false
   },
   "outputs": [
    {
     "name": "stdout",
     "output_type": "stream",
     "text": [
      "經濟部水利署北區水資源局徵水利工程職系工程員1名\n",
      "面對旱象，除了進行各項節水抗旱作業外，北水局更積極應變，化危機為轉機，擴大清淤、辦理水庫設施改善等作業，為水庫永續繼續努力\n",
      "石門水庫增設取水工工程，把握水位下降進場施工，完成後提供更質優量穩水源  --  (資料來源：水利署)\n",
      "67年來最少雨 桃園、板新、林口地區4月1日起供5停2--(資料來源：水利署)\n",
      "本局經管桃園市龍潭區佳安里佳安西路5號佳安市場（碧湖段718建號、基地座落：碧湖段891、897地號土地）國有房地公開標租案\n",
      "總統視察寶二水庫供水情勢及抗旱措施  --  (資料來源：水利署)\n",
      "公告本局104年約僱人員（保育課職務代理人）甄選結果。\n",
      "經濟部水利署北區水資源局徵約僱人員（職務代理）\n",
      "石門水庫水位低，馬總統籲請全民行動抗旱  --  (資料來源：水利署)\n",
      "毛院長視察石門水庫水情及清淤辦理情形  --  (資料來源：水利署)\n",
      "北水局廉政電子報104年3月號 \n",
      "公告本局104年約僱人員(主計室職務代理人)甄選錄取人員名單\n",
      "抗旱不休假，楊次長率水利署走訪北中南水庫，指示待命施作人工增雨--(資料來源：水利署)\n",
      "本波鋒面人工增雨南部效果較佳--(資料來源：水利署)\n",
      "新北（林口、板新）、桃竹苗、臺中、北彰化、臺南及高雄地區2月26日起二階限水--(資料來源：水利署)\n",
      "北水局廉政電子報104年2月號 \n",
      "經濟部水利署北區水資源局徵約僱人員（職務代理）\n",
      "經濟部水利署北區水資源局徵約僱人員（職務代理）\n",
      "水情持續不佳，石門大圳延後一周供灌，請民眾加強節水共度枯水期\n",
      "協助宣導行政院農委會禽流感資訊專區\n",
      "公告本局104年水利工程職系工程員甄選錄取名單(羅東堰)\n",
      "公告桃園、新竹及嘉南地區104年第1期稻作停灌事宜\n",
      "停灌範圍\n",
      "104年抗旱停灌重點說明\n",
      "104年第一期稻作停灌補償簡易說明\n",
      "水情不佳，經濟部楊次長要求抗旱工作事前溝通、實地查核--(資料來源：水利署)\n",
      "標售本局103年度奉准幸廢財物1批開(決)標紀錄表\n",
      "水利署通盤考量節水措施 部份地區停灌休耕實為不得已--(資料來源：水利署)\n",
      "水利署楊署長視察石門水庫，指示全力監控水情穩定供水\n",
      "經濟部抗旱會議決定桃竹及嘉南(嘉義、白水溪)灌區第一期稻作停灌休耕--(資料來源：水利署)\n"
     ]
    }
   ],
   "source": []
  },
  {
   "cell_type": "code",
   "execution_count": null,
   "metadata": {
    "collapsed": true
   },
   "outputs": [],
   "source": []
  }
 ],
 "metadata": {
  "kernelspec": {
   "display_name": "Python 2",
   "language": "python",
   "name": "python2"
  },
  "language_info": {
   "codemirror_mode": {
    "name": "ipython",
    "version": 2
   },
   "file_extension": ".py",
   "mimetype": "text/x-python",
   "name": "python",
   "nbconvert_exporter": "python",
   "pygments_lexer": "ipython2",
   "version": "2.7.6"
  }
 },
 "nbformat": 4,
 "nbformat_minor": 0
}
